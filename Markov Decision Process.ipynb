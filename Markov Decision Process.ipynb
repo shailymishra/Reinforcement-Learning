{
 "cells": [
  {
   "cell_type": "code",
   "execution_count": 2,
   "id": "a8e1396f",
   "metadata": {},
   "outputs": [],
   "source": [
    "import pandas as pd\n",
    "import numpy as np\n",
    "import seaborn as sns                       #visualisation\n",
    "import matplotlib.pyplot as plt             #visualisation\n",
    "# %matplotlib inline     \n",
    "sns.set(color_codes=True)\n",
    "\n",
    "import random\n",
    "\n",
    "# import scipy\n"
   ]
  },
  {
   "cell_type": "code",
   "execution_count": null,
   "id": "68921923",
   "metadata": {},
   "outputs": [],
   "source": [
    "#logic\n",
    "# start the game\n",
    "# play then get reward of 4 and roll dice, if dice value is 1 or 2 then quit else continue the game\n",
    "# or quit and get reward of 10"
   ]
  },
  {
   "cell_type": "code",
   "execution_count": 13,
   "id": "6b08cb32",
   "metadata": {},
   "outputs": [],
   "source": [
    "class DiceGameMDP:\n",
    "    def __init__(self):\n",
    "        self.states = ['Start', 'Roll Again', 'Game Over']\n",
    "        self.current_state = 'Start'\n",
    "        self.total_reward = 0\n",
    "\n",
    "    def roll_dice(self):\n",
    "        return random.randint(1, 6)\n",
    "\n",
    "\n",
    "    # def take_action(self, action):\n",
    "    #         # Handling actions in the Start state\n",
    "    #         if self.current_state == 'Start':\n",
    "    #             if action == 'Quit':\n",
    "    #                 self.total_reward += 10\n",
    "    #                 self.current_state = 'Game Over'\n",
    "    #             elif action == 'Roll':\n",
    "    #                 self.total_reward += 4\n",
    "    #                 self.handle_roll()\n",
    "    def take_action(self,action):\n",
    "        if self.current_state == 'Start':\n",
    "            if action == 'Quit':\n",
    "                self.total_reward += 10\n",
    "                self.current_state = 'Game Over'\n",
    "            elif action == 'Roll':\n",
    "                self.total_reward += 4\n",
    "                self.handle_roll()\n",
    "        elif self.current_state == 'Roll Again':\n",
    "            if action == 'Roll':\n",
    "                self.handle_roll()\n",
    "        elif self.current_state == 'Game Over':\n",
    "            print('Game is over. Please reset the game to play again.')\n",
    "        return self.current_state\n",
    "\n",
    "\n",
    "    \n",
    "    def handle_roll(self):\n",
    "        dice_value = self.roll_dice()\n",
    "        if dice_value not in [1, 2]:\n",
    "            self.total_reward += 4\n",
    "            self.current_state = 'Roll Again'\n",
    "        else:\n",
    "            self.current_state = 'Game Over' \n",
    "\n",
    "\n",
    "    def playGame(self, action):\n",
    "        self.current_state = 'Start'\n",
    "        self.total_reward = 0\n",
    "        while self.current_state != 'Game Over':\n",
    "            print('Current State: ', self.current_state)\n",
    "            self.take_action(action)\n",
    "        return self.total_reward\n"
   ]
  },
  {
   "cell_type": "code",
   "execution_count": 14,
   "id": "0e90c538",
   "metadata": {},
   "outputs": [
    {
     "name": "stdout",
     "output_type": "stream",
     "text": [
      "Current State:  Start\n",
      "Current State:  Roll Again\n",
      "Current State:  Roll Again\n",
      "Current State:  Roll Again\n",
      "Current State:  Roll Again\n",
      "Current State:  Roll Again\n",
      "Reward 24\n"
     ]
    }
   ],
   "source": [
    "# Example usage\n",
    "dice_game_mdp = DiceGameMDP()\n",
    "# Player decides to roll\n",
    "dice_game_mdp.playGame('Roll')\n",
    "print('Reward', dice_game_mdp.total_reward)"
   ]
  },
  {
   "cell_type": "code",
   "execution_count": 16,
   "id": "3c4f7511",
   "metadata": {},
   "outputs": [
    {
     "name": "stdout",
     "output_type": "stream",
     "text": [
      "['Start', 'Roll Again', 'Game Over']\n",
      "[0. 0. 0.]\n",
      "Start\n",
      "Roll\n",
      "Roll Again\n"
     ]
    },
    {
     "ename": "IndexError",
     "evalue": "only integers, slices (`:`), ellipsis (`...`), numpy.newaxis (`None`) and integer or boolean arrays are valid indices",
     "output_type": "error",
     "traceback": [
      "\u001b[1;31m---------------------------------------------------------------------------\u001b[0m",
      "\u001b[1;31mIndexError\u001b[0m                                Traceback (most recent call last)",
      "Cell \u001b[1;32mIn[16], line 30\u001b[0m\n\u001b[0;32m     25\u001b[0m     \u001b[38;5;28;01mreturn\u001b[39;00m V\n\u001b[0;32m     28\u001b[0m policy \u001b[38;5;241m=\u001b[39m {\u001b[38;5;124m'\u001b[39m\u001b[38;5;124mStart\u001b[39m\u001b[38;5;124m'\u001b[39m: \u001b[38;5;124m'\u001b[39m\u001b[38;5;124mRoll\u001b[39m\u001b[38;5;124m'\u001b[39m, \u001b[38;5;124m'\u001b[39m\u001b[38;5;124mRoll Again\u001b[39m\u001b[38;5;124m'\u001b[39m: \u001b[38;5;124m'\u001b[39m\u001b[38;5;124mRoll\u001b[39m\u001b[38;5;124m'\u001b[39m, \u001b[38;5;124m'\u001b[39m\u001b[38;5;124mGame Over\u001b[39m\u001b[38;5;124m'\u001b[39m: \u001b[38;5;124m'\u001b[39m\u001b[38;5;124mQuit\u001b[39m\u001b[38;5;124m'\u001b[39m}\n\u001b[1;32m---> 30\u001b[0m policyevaluation \u001b[38;5;241m=\u001b[39m \u001b[43mpolicy_evaluation\u001b[49m\u001b[43m(\u001b[49m\u001b[43mpolicy\u001b[49m\u001b[43m,\u001b[49m\u001b[43m \u001b[49m\u001b[43mDiceGameMDP\u001b[49m\u001b[43m(\u001b[49m\u001b[43m)\u001b[49m\u001b[43m,\u001b[49m\u001b[43m \u001b[49m\u001b[43miterations\u001b[49m\u001b[38;5;241;43m=\u001b[39;49m\u001b[38;5;241;43m1\u001b[39;49m\u001b[43m,\u001b[49m\u001b[43m \u001b[49m\u001b[43mdiscount_factor\u001b[49m\u001b[38;5;241;43m=\u001b[39;49m\u001b[38;5;241;43m0.9\u001b[39;49m\u001b[43m)\u001b[49m\n\u001b[0;32m     31\u001b[0m \u001b[38;5;28mprint\u001b[39m(policyevaluation)\n",
      "Cell \u001b[1;32mIn[16], line 23\u001b[0m, in \u001b[0;36mpolicy_evaluation\u001b[1;34m(policy, mdp, iterations, discount_factor)\u001b[0m\n\u001b[0;32m     21\u001b[0m         reward \u001b[38;5;241m=\u001b[39m mdp\u001b[38;5;241m.\u001b[39mtotal_reward\n\u001b[0;32m     22\u001b[0m         \u001b[38;5;66;03m# update the value function\u001b[39;00m\n\u001b[1;32m---> 23\u001b[0m         V[state] \u001b[38;5;241m=\u001b[39m reward \u001b[38;5;241m+\u001b[39m discount_factor \u001b[38;5;241m*\u001b[39m \u001b[43mV\u001b[49m\u001b[43m[\u001b[49m\u001b[43mnext_state\u001b[49m\u001b[43m]\u001b[49m\n\u001b[0;32m     24\u001b[0m         \u001b[38;5;28mprint\u001b[39m(V)\n\u001b[0;32m     25\u001b[0m \u001b[38;5;28;01mreturn\u001b[39;00m V\n",
      "\u001b[1;31mIndexError\u001b[0m: only integers, slices (`:`), ellipsis (`...`), numpy.newaxis (`None`) and integer or boolean arrays are valid indices"
     ]
    }
   ],
   "source": [
    "# write policy evaluation function for gamemdp\n",
    "\n",
    "def policy_evaluation(policy, mdp, iterations=10, discount_factor=0.9):\n",
    "    \"\"\"\n",
    "    Evaluates the value of a policy using iterative policy evaluation\n",
    "    \"\"\"\n",
    "    print(mdp.states)\n",
    "    V = np.zeros(len(mdp.states))\n",
    "    print(V)\n",
    "    for i in range(iterations):\n",
    "        for state in mdp.states:\n",
    "            print(state)\n",
    "            # get the action from the policy\n",
    "            action = policy[state]\n",
    "            print(action)\n",
    "            # get the next state\n",
    "            next_state = mdp.take_action(action)\n",
    "            print(next_state)\n",
    "            # get the reward\n",
    "            #reward = mdp.get_reward(next_state)\n",
    "            reward = mdp.total_reward\n",
    "            # update the value function\n",
    "            \n",
    "            V[state] = reward + discount_factor * V[next_state]\n",
    "            print(V)\n",
    "    return V\n",
    "\n",
    "\n",
    "policy = {'Start': 'Roll', 'Roll Again': 'Roll', 'Game Over': 'Quit'}\n",
    "\n",
    "policyevaluation = policy_evaluation(policy, DiceGameMDP(), iterations=1, discount_factor=0.9)\n",
    "print(policyevaluation)"
   ]
  },
  {
   "cell_type": "code",
   "execution_count": 17,
   "id": "7947a2c8",
   "metadata": {},
   "outputs": [
    {
     "name": "stdout",
     "output_type": "stream",
     "text": [
      "Expected reward for 'Always Play' policy: 11.999999999999998\n",
      "Expected reward for 'Never Play' policy: 10\n"
     ]
    }
   ],
   "source": [
    "def expected_reward_of_playing():\n",
    "    \"\"\"\n",
    "    Calculate the expected reward for the 'Always Play' policy.\n",
    "    \"\"\"\n",
    "    probability_of_continuing = 4/6  # Probability of rolling 3, 4, 5, or 6\n",
    "    probability_of_ending = 1 - probability_of_continuing  # Probability of rolling 1 or 2\n",
    "    reward_per_roll = 4\n",
    "\n",
    "    # Expected reward is a sum of an infinite series: 4 + 4*(4/6) + 4*(4/6)^2 + 4*(4/6)^3 + ...\n",
    "    expected_reward = reward_per_roll / probability_of_ending\n",
    "    return expected_reward\n",
    "\n",
    "def evaluate_policy(policy):\n",
    "    \"\"\"\n",
    "    Evaluate the given policy.\n",
    "    \"\"\"\n",
    "    if policy == \"Always Play\":\n",
    "        return expected_reward_of_playing()\n",
    "    elif policy == \"Never Play\":\n",
    "        return 10  # Guaranteed reward for not playing\n",
    "    else:\n",
    "        raise ValueError(\"Unknown policy\")\n",
    "\n",
    "# Evaluate policies\n",
    "reward_always_play = evaluate_policy(\"Always Play\")\n",
    "reward_never_play = evaluate_policy(\"Never Play\")\n",
    "\n",
    "print(f\"Expected reward for 'Always Play' policy: {reward_always_play}\")\n",
    "print(f\"Expected reward for 'Never Play' policy: {reward_never_play}\")\n"
   ]
  },
  {
   "cell_type": "code",
   "execution_count": 20,
   "id": "33684c0b",
   "metadata": {},
   "outputs": [
    {
     "name": "stdout",
     "output_type": "stream",
     "text": [
      "Value of 'Always Play' policy: 11.999859192433627\n",
      "Value of 'Never Play' policy: 10\n"
     ]
    }
   ],
   "source": [
    "def update_state_value(value):\n",
    "    \"\"\"\n",
    "    Update the value of the 'Playing' state based on the expected reward.\n",
    "    \"\"\"\n",
    "    reward_per_roll = 4\n",
    "    probability_of_continuing = 4 / 6  # Probability of rolling 3, 4, 5, or 6\n",
    "    probability_of_ending = 2 / 6  # Probability of rolling 1 or 2\n",
    "\n",
    "    # Expected value: reward for current roll + discounted future value if game continues\n",
    "    new_value = (probability_of_continuing * (reward_per_roll + value)) + (probability_of_ending * (reward_per_roll+ 0))\n",
    "    return new_value\n",
    "\n",
    "def policy_evaluation(policy, threshold=0.0001):\n",
    "    \"\"\"\n",
    "    Iteratively evaluate the policy until convergence.\n",
    "    \"\"\"\n",
    "    if policy == \"Never Play\":\n",
    "        return 10\n",
    "\n",
    "    state_value = 0  # Initial value of 'Playing' state\n",
    "    while True:\n",
    "        new_value = update_state_value(state_value)\n",
    "        delta = abs(new_value - state_value)\n",
    "        state_value = new_value\n",
    "\n",
    "        if delta < threshold:  # Check for convergence\n",
    "            break\n",
    "\n",
    "    return state_value\n",
    "\n",
    "# Evaluate 'Always Play' policy\n",
    "value_always_play = policy_evaluation(\"Always Play\")\n",
    "print(f\"Value of 'Always Play' policy: {value_always_play}\")\n",
    "\n",
    "# Evaluate 'Never Play' policy\n",
    "value_never_play = policy_evaluation(\"Never Play\")\n",
    "print(f\"Value of 'Never Play' policy: {value_never_play}\")\n"
   ]
  },
  {
   "cell_type": "code",
   "execution_count": 21,
   "id": "9584dd8b",
   "metadata": {},
   "outputs": [
    {
     "name": "stdout",
     "output_type": "stream",
     "text": [
      "Value of 'Always Play' policy: 7.999999999999999\n",
      "Value of 'Never Play' policy: 10\n"
     ]
    }
   ],
   "source": [
    "def solve_recurrence_relation():\n",
    "    \"\"\"\n",
    "    Solve the recurrence relation to find the expected value of 'Playing' state.\n",
    "    \"\"\"\n",
    "    # Define the coefficients of the recurrence relation\n",
    "    probability_of_continuing = 4 / 6\n",
    "    reward_per_roll = 4\n",
    "\n",
    "    # Solving the equation V = (4/6) * (4 + V)\n",
    "    # Rearranging: V - (4/6) * V = (4/6) * 4\n",
    "    # Simplifying: V * (1 - (4/6)) = (4/6) * 4\n",
    "    V = (probability_of_continuing * reward_per_roll) / (1 - probability_of_continuing)\n",
    "    return V\n",
    "\n",
    "# Solve for the value of the 'Playing' state under the 'Always Play' policy\n",
    "value_always_play = solve_recurrence_relation()\n",
    "print(f\"Value of 'Always Play' policy: {value_always_play}\")\n",
    "\n",
    "# The value for 'Never Play' policy is a constant 10\n",
    "value_never_play = 10\n",
    "print(f\"Value of 'Never Play' policy: {value_never_play}\")\n"
   ]
  },
  {
   "cell_type": "code",
   "execution_count": null,
   "id": "15acb6e7",
   "metadata": {},
   "outputs": [],
   "source": []
  },
  {
   "cell_type": "code",
   "execution_count": 23,
   "id": "9f27fc01",
   "metadata": {},
   "outputs": [
    {
     "name": "stdout",
     "output_type": "stream",
     "text": [
      "Value of state 1: 0\n",
      "Value of state 2: 0\n",
      "Value of state 3: 0\n",
      "Value of state 4: 0\n",
      "Value of state 5: 0\n",
      "Value of state 6: 0\n"
     ]
    }
   ],
   "source": [
    "# Constants\n",
    "gamma = 1  # Assuming no discounting for simplicity\n",
    "states = range(1, 7)  # Possible states based on dice roll\n",
    "actions = [\"Play\", \"Quit\"]\n",
    "rewards = {3: 4, 4: 4, 5: 4, 6: 4, 1: 0, 2: 0}  # Rewards for each dice roll\n",
    "quit_reward = 10\n",
    "\n",
    "# Initialize state values arbitrarily\n",
    "V_pi = {s: 0 for s in states}\n",
    "\n",
    "# Transition probabilities\n",
    "def T(s, a, s_prime):\n",
    "    if a == \"Quit\":\n",
    "        return 0\n",
    "    else:\n",
    "        return 1/6 if s_prime in states else 0\n",
    "\n",
    "# Define the policy\n",
    "def policy(s):\n",
    "    # Replace with actual policy logic\n",
    "    # For example, always play unless the state is 1 or 2\n",
    "    return \"Play\" if s not in [1, 2] else \"Quit\"\n",
    "\n",
    "# Calculate the Q function for each state-action pair\n",
    "def calculate_Q(V_pi, gamma):\n",
    "    Q_pi = {}\n",
    "    for s in states:\n",
    "        for a in actions:\n",
    "            Q_pi[(s, a)] = sum(T(s, a, s_prime) * (rewards.get(s_prime, 0) + gamma * V_pi[s_prime]) for s_prime in states)\n",
    "            if a == \"Quit\":\n",
    "                Q_pi[(s, a)] = quit_reward\n",
    "    return Q_pi\n",
    "\n",
    "# Update state values based on the Q function\n",
    "def update_V(Q_pi):\n",
    "    for s in states:\n",
    "        V_pi[s] = max(Q_pi[(s, policy(s))], Q_pi[(s, \"Quit\")])\n",
    "\n",
    "# Policy evaluation\n",
    "def policy_evaluation(V_pi, gamma, threshold=0.01):\n",
    "    while True:\n",
    "        Q_pi = calculate_Q(V_pi, gamma)\n",
    "        update_V(Q_pi)\n",
    "        # Check for convergence (omitted for brevity)\n",
    "        # ...\n",
    "\n",
    "# Run the policy evaluation\n",
    "def policy_evaluation(V_pi, gamma, threshold=0.01):\n",
    "    while True:\n",
    "        delta = 0  # This will track the maximum change in value for any state\n",
    "        Q_pi = calculate_Q(V_pi, gamma)\n",
    "        \n",
    "        # Capture the old value for comparison\n",
    "        old_V_pi = V_pi.copy()\n",
    "        \n",
    "        # Update state values based on the Q function\n",
    "        update_V(Q_pi)\n",
    "        \n",
    "        # After the update, check if the value function has converged\n",
    "        for s in states:\n",
    "            delta = max(delta, abs(old_V_pi[s] - V_pi[s]))\n",
    "        \n",
    "        # If the maximum change in the value function is below the threshold, we stop\n",
    "        if delta < threshold:\n",
    "            break\n",
    "\n",
    "\n",
    "# Print the resulting state values\n",
    "for s in states:\n",
    "    print(f\"Value of state {s}: {V_pi[s]}\")\n"
   ]
  },
  {
   "cell_type": "code",
   "execution_count": null,
   "id": "ee51898a",
   "metadata": {},
   "outputs": [],
   "source": []
  },
  {
   "cell_type": "code",
   "execution_count": 53,
   "id": "756f4b18",
   "metadata": {},
   "outputs": [
    {
     "name": "stdout",
     "output_type": "stream",
     "text": [
      "Total reward 1197372\n",
      "Expected reward 11.97372\n",
      "(100000,)\n"
     ]
    }
   ],
   "source": [
    "## taking expectation\n",
    "playgamecount = 100000\n",
    "calculateexpectedreward = 0\n",
    "rewards = np.array([])\n",
    "for i in range(playgamecount):\n",
    "    dice_game_mdp = DiceGameMDP()\n",
    "    dice_game_mdp.take_action('Roll')\n",
    "    result = dice_game_mdp.total_reward\n",
    "    rewards = np.append(rewards,result)\n",
    "    calculateexpectedreward += result\n",
    "print('Total reward',calculateexpectedreward)\n",
    "print('Expected reward',calculateexpectedreward/playgamecount)\n",
    "print(rewards.shape)\n"
   ]
  },
  {
   "cell_type": "code",
   "execution_count": null,
   "id": "5208d78b",
   "metadata": {},
   "outputs": [],
   "source": []
  },
  {
   "cell_type": "code",
   "execution_count": 54,
   "id": "9b0bd4d7",
   "metadata": {},
   "outputs": [
    {
     "data": {
      "image/png": "[encoded data removed]",
      "text/plain": [
       "<Figure size 640x480 with 1 Axes>"
      ]
     },
     "metadata": {},
     "output_type": "display_data"
    }
   ],
   "source": [
    "### Plot distirbution chart\n",
    "rewards = pd.Series(rewards)\n",
    "value_counts = rewards.value_counts()\n",
    "plt.bar(value_counts.index, value_counts.values/rewards.shape[0], color='blue')\n",
    "\n",
    "# Customize the plot (optional)\n",
    "plt.title('Value Counts Bar Chart')\n",
    "plt.xlabel('Values')\n",
    "plt.ylabel('Counts')\n",
    "\n",
    "# tenatsmoreinfo.hist(color='#D6D1C4', edgecolor='black', bins=20)\n",
    "ax = plt.gca()\n",
    "ax.set_facecolor('white')  # Set the background color of the plot area\n",
    "plt.title('', fontsize=16)\n",
    "plt.grid(True)\n",
    "plt.tight_layout()\n",
    "plt.xlabel('Game Result', fontsize=14)\n",
    "plt.ylabel('Occurance', fontsize=14)\n",
    "plt.xticks(rotation=45, ha='right') \n",
    "plt.xticks(value_counts.index)\n",
    "\n",
    "\n",
    "# Show the plot\n",
    "plt.show()"
   ]
  },
  {
   "cell_type": "code",
   "execution_count": 38,
   "id": "eb0d7cdf",
   "metadata": {},
   "outputs": [
    {
     "data": {
      "image/png": "[encoded data removed]",
      "text/plain": [
       "<Figure size 640x480 with 1 Axes>"
      ]
     },
     "metadata": {},
     "output_type": "display_data"
    }
   ],
   "source": [
    "### Priobability distribution for top 10 values only\n",
    "top_20_value_counts = value_counts.head(10)\n",
    "\n",
    "# Create a bar chart\n",
    "plt.bar(top_20_value_counts.index, top_20_value_counts.values/rewards.shape[0], color='blue')\n",
    "\n",
    "# Customize the plot (optional)\n",
    "plt.title('Top 20 Value Counts Bar Chart')\n",
    "plt.xlabel('Values')\n",
    "plt.ylabel('Counts')\n",
    "plt.xticks(top_20_value_counts.index)\n",
    "\n",
    "# Show the plot\n",
    "plt.show()"
   ]
  },
  {
   "cell_type": "code",
   "execution_count": 26,
   "id": "68ca85eb",
   "metadata": {},
   "outputs": [
    {
     "data": {
      "image/png": "[encoded data removed]",
      "text/plain": [
       "<Figure size 640x480 with 1 Axes>"
      ]
     },
     "metadata": {},
     "output_type": "display_data"
    }
   ],
   "source": []
  },
  {
   "cell_type": "code",
   "execution_count": 55,
   "id": "b2cb2be5",
   "metadata": {},
   "outputs": [
    {
     "name": "stdout",
     "output_type": "stream",
     "text": [
      "New state: Tile 2, Reward: -1\n"
     ]
    }
   ],
   "source": [
    "class VolcanoCrossingMDP:\n",
    "    def __init__(self):\n",
    "        self.states = ['Tile 1', 'Tile 2', 'Tile 3', 'Tile 4', 'Tile 5', 'Game Over']\n",
    "        self.volcanic_tiles = ['Tile 3']  # Example: Tile 3 is volcanic\n",
    "        self.goal_tile = 'Tile 5'\n",
    "        self.actions = ['Move Forward', 'Stay']\n",
    "\n",
    "    def take_action(self, state, action):\n",
    "        if state in self.volcanic_tiles or state == self.goal_tile or state == 'Game Over':\n",
    "            return 'Game Over', -10  # Large penalty for volcanic tile or game over state\n",
    "\n",
    "        if action == 'Move Forward':\n",
    "            next_state = f'Tile {int(state.split()[1]) + 1}'\n",
    "            if next_state == self.goal_tile:\n",
    "                return next_state, 10  # Reward for reaching the goal\n",
    "            else:\n",
    "                return next_state, -1  # Small penalty to encourage moving forward\n",
    "\n",
    "        elif action == 'Stay':\n",
    "            return state, -1  # Small penalty for staying\n",
    "\n",
    "# Example usage\n",
    "mdp = VolcanoCrossingMDP()\n",
    "current_state = 'Tile 1'\n",
    "action_taken = 'Move Forward'\n",
    "new_state, reward = mdp.take_action(current_state, action_taken)\n",
    "print(f\"New state: {new_state}, Reward: {reward}\")\n"
   ]
  },
  {
   "cell_type": "code",
   "execution_count": 61,
   "id": "609575af",
   "metadata": {},
   "outputs": [
    {
     "name": "stdout",
     "output_type": "stream",
     "text": [
      "New state: (0, 1), Reward: -1\n"
     ]
    }
   ],
   "source": [
    "class VolcanoCrossing2DMDP:\n",
    "    def __init__(self, grid):\n",
    "        self.grid = grid\n",
    "        self.rows = len(grid)\n",
    "        self.cols = len(grid[0])\n",
    "        self.actions = ['Up', 'Down', 'Left', 'Right']\n",
    "        self.goal = (2, 2)  # Assuming the goal is at (2, 2)\n",
    "        self.game_over = False\n",
    "\n",
    "    def is_valid(self, position):\n",
    "        r, c = position\n",
    "        return 0 <= r < self.rows and 0 <= c < self.cols\n",
    "\n",
    "    def take_action(self, state, action):\n",
    "        if self.game_over:\n",
    "            return state, 0  # No reward if the game is over\n",
    "\n",
    "        r, c = state\n",
    "        new_state = (r, c)\n",
    "        if action == 'Up' and self.is_valid((r - 1, c)):\n",
    "            new_state = (r - 1, c)\n",
    "        elif action == 'Down' and self.is_valid((r + 1, c)):\n",
    "            new_state = (r + 1, c)\n",
    "        elif action == 'Left' and self.is_valid((r, c - 1)):\n",
    "            new_state = (r, c - 1)\n",
    "        elif action == 'Right' and self.is_valid((r, c + 1)):\n",
    "            new_state = (r, c + 1)\n",
    "\n",
    "        # Check for volcanic or goal cell\n",
    "        if self.grid[new_state[0]][new_state[1]] == 'V':\n",
    "            self.game_over = True\n",
    "            return new_state, -100  # Penalty for volcanic cell\n",
    "        elif new_state == self.goal:\n",
    "            return new_state, 100  # Reward for reaching the goal\n",
    "\n",
    "        return new_state, -1  # Small penalty for each move\n",
    "\n",
    "# Example usage\n",
    "grid = [['S', '-', '-'], ['-', 'V', '-'], ['-', '-', 'G']]\n",
    "mdp = VolcanoCrossing2DMDP(grid)\n",
    "current_state = (0, 0)  # Starting position\n",
    "action_taken = 'Right'  # Example action\n",
    "new_state, reward = mdp.take_action(current_state, action_taken)\n",
    "print(f\"New state: {new_state}, Reward: {reward}\")\n"
   ]
  },
  {
   "cell_type": "code",
   "execution_count": 62,
   "id": "24b7b86e",
   "metadata": {},
   "outputs": [
    {
     "name": "stdout",
     "output_type": "stream",
     "text": [
      "Action: Right, New State: (0, 1), Reward: -1\n",
      "Action: Right, New State: (0, 2), Reward: -1\n",
      "Action: Down, New State: (1, 2), Reward: -1\n",
      "Action: Down, New State: (2, 2), Reward: 100\n",
      "Final State: (2, 2)\n"
     ]
    }
   ],
   "source": [
    "class VolcanoCrossing2DMDP:\n",
    "    def __init__(self, grid):\n",
    "        self.grid = grid\n",
    "        self.rows = len(grid)\n",
    "        self.cols = len(grid[0])\n",
    "        self.actions = ['Up', 'Down', 'Left', 'Right']\n",
    "        self.goal = (2, 2)  # Goal is at (2, 2)\n",
    "        self.game_over = False\n",
    "\n",
    "    def is_valid(self, position):\n",
    "        r, c = position\n",
    "        return 0 <= r < self.rows and 0 <= c < self.cols\n",
    "\n",
    "    def take_action(self, state, action):\n",
    "        if self.game_over:\n",
    "            return state, 0  # No reward if the game is over\n",
    "\n",
    "        r, c = state\n",
    "        new_state = (r, c)\n",
    "        if action == 'Up' and self.is_valid((r - 1, c)):\n",
    "            new_state = (r - 1, c)\n",
    "        elif action == 'Down' and self.is_valid((r + 1, c)):\n",
    "            new_state = (r + 1, c)\n",
    "        elif action == 'Left' and self.is_valid((r, c - 1)):\n",
    "            new_state = (r, c - 1)\n",
    "        elif action == 'Right' and self.is_valid((r, c + 1)):\n",
    "            new_state = (r, c + 1)\n",
    "\n",
    "        # Check for volcanic or goal cell\n",
    "        if self.grid[new_state[0]][new_state[1]] == 'V':\n",
    "            self.game_over = True\n",
    "            return new_state, -100  # Penalty for volcanic cell\n",
    "        elif new_state == self.goal:\n",
    "            return new_state, 100  # Reward for reaching the goal\n",
    "\n",
    "        return new_state, -1  # Small penalty for each move\n",
    "\n",
    "# Example usage\n",
    "grid = [['S', '-', '-'], ['-', 'V', '-'], ['-', '-', 'G']]\n",
    "mdp = VolcanoCrossing2DMDP(grid)\n",
    "current_state = (0, 0)  # Starting position\n",
    "\n",
    "# Play the game with the given action sequence\n",
    "sequence_of_actions = ['Right', 'Right', 'Down', 'Down']  # A sequence of actions\n",
    "\n",
    "for action in sequence_of_actions:\n",
    "    new_state, reward = mdp.take_action(current_state, action)\n",
    "    print(f\"Action: {action}, New State: {new_state}, Reward: {reward}\")\n",
    "    current_state = new_state\n",
    "\n",
    "    if mdp.game_over:\n",
    "        print(\"Game Over!\")\n",
    "        break\n",
    "\n",
    "print(f\"Final State: {current_state}\")\n"
   ]
  },
  {
   "cell_type": "markdown",
   "id": "d56e85c6",
   "metadata": {},
   "source": []
  },
  {
   "cell_type": "code",
   "execution_count": 65,
   "id": "2255663a",
   "metadata": {},
   "outputs": [],
   "source": [
    "# <!-- S - - \n",
    "# - V - \n",
    "# - - G  -->\n"
   ]
  },
  {
   "cell_type": "code",
   "execution_count": null,
   "id": "b2e5caaf",
   "metadata": {},
   "outputs": [],
   "source": []
  }
 ],
 "metadata": {
  "kernelspec": {
   "display_name": "Python 3 (ipykernel)",
   "language": "python",
   "name": "python3"
  },
  "language_info": {
   "codemirror_mode": {
    "name": "ipython",
    "version": 3
   },
   "file_extension": ".py",
   "mimetype": "text/x-python",
   "name": "python",
   "nbconvert_exporter": "python",
   "pygments_lexer": "ipython3",
   "version": "3.10.11"
  }
 },
 "nbformat": 4,
 "nbformat_minor": 5
}
