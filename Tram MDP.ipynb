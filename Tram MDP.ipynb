{
 "cells": [
  {
   "cell_type": "code",
   "execution_count": 1,
   "id": "a8e1396f",
   "metadata": {},
   "outputs": [],
   "source": [
    "import pandas as pd\n",
    "import numpy as np\n",
    "import seaborn as sns                       #visualisation\n",
    "import matplotlib.pyplot as plt             #visualisation\n",
    "# %matplotlib inline     \n",
    "sns.set(color_codes=True)\n",
    "\n",
    "import random\n",
    "\n",
    "# import scipy\n"
   ]
  },
  {
   "cell_type": "code",
   "execution_count": null,
   "id": "68921923",
   "metadata": {},
   "outputs": [],
   "source": [
    "#logic\n",
    "# start the game\n",
    "# play then get reward of 4 and roll dice, if dice value is 1 or 2 then quit else continue the game\n",
    "# or quit and get reward of 10"
   ]
  },
  {
   "cell_type": "code",
   "execution_count": 21,
   "id": "3425c123",
   "metadata": {},
   "outputs": [],
   "source": [
    "class TramMDP:\n",
    "    def __init__(self,N):\n",
    "        self.N = N  # Number of states\n",
    "        self.states = list(range(1, N+1))\n",
    "        self.actions = ['walk', 'tram']\n",
    "        self.current_state = 1\n",
    "        self.endState = N\n",
    "        self.gamma = 1.0\n",
    "        self.total_reward = 0\n",
    "\n",
    "\n",
    "        # Define the transition probabilities and rewards as a combined dictionary\n",
    "        self.transitions = self._create_transitions()\n",
    "\n",
    "\n",
    "# create transition and reward matrices\n",
    "        \n",
    "    def _create_transitions(self):\n",
    "            transitions = {}\n",
    "            for state in self.states[:-1]:  # Exclude the 'game over' state\n",
    "                transitions[state] = {\n",
    "                    'walk': [((state + 1, 1.0, -1.0),)],\n",
    "                    'tram': [((min(state * 2, self.N), 0.5, -2.0),), ((state, 0.5, -2.0),)]\n",
    "                }\n",
    "            return transitions\n",
    "    \n",
    "    def getTransition(self, state, action):\n",
    "        return self.transitions[state][action]\n",
    "\n",
    "    def take_action(self, action):\n",
    "        if self.current_state == self.endState:\n",
    "            return self.endState\n",
    "\n",
    "        transitions = self.getTransition(self.current_state, action)\n",
    "        if not transitions:\n",
    "            return self.current_state\n",
    "\n",
    "        print(transitions)\n",
    "        # Choose the next state based on the transition probabilities\n",
    "        next_state, prob, reward = random.choice(transitions)[0]\n",
    "        print(next_state, prob, reward)\n",
    "        # Update current state and total reward\n",
    "        self.current_state = next_state\n",
    "        self.total_reward += reward\n",
    "\n",
    "        return self.current_state, reward\n",
    "\n"
   ]
  },
  {
   "cell_type": "code",
   "execution_count": 24,
   "id": "f6ec527b",
   "metadata": {},
   "outputs": [
    {
     "name": "stdout",
     "output_type": "stream",
     "text": [
      "{1: {'walk': [((2, 1.0, -1.0),)], 'tram': [((2, 0.5, -2.0),), ((1, 0.5, -2.0),)]}, 2: {'walk': [((3, 1.0, -1.0),)], 'tram': [((4, 0.5, -2.0),), ((2, 0.5, -2.0),)]}, 3: {'walk': [((4, 1.0, -1.0),)], 'tram': [((5, 0.5, -2.0),), ((3, 0.5, -2.0),)]}, 4: {'walk': [((5, 1.0, -1.0),)], 'tram': [((5, 0.5, -2.0),), ((4, 0.5, -2.0),)]}}\n",
      "[((2, 0.5, -2.0),), ((1, 0.5, -2.0),)]\n",
      "2 0.5 -2.0\n",
      "(2, -2.0)\n"
     ]
    }
   ],
   "source": [
    "tram = TramMDP(5)\n",
    "transition_probabilities = tram._create_transitions()\n",
    "print(transition_probabilities)\n",
    "\n",
    "print(tram.take_action('tram'))"
   ]
  },
  {
   "cell_type": "code",
   "execution_count": 4,
   "id": "6b08cb32",
   "metadata": {},
   "outputs": [],
   "source": [
    "class DiceGameMDP:\n",
    "    def __init__(self):\n",
    "        self.states = ['start', 'playing', 'game over']\n",
    "        self.actions = ['play', 'quit']\n",
    "        self.current_state = 'start'\n",
    "        self.total_reward = 0\n",
    "        self.policy = {\"start\": \"play\", \"playing\": \"play\", \"game over\": \"quit\"}\n",
    "        self.endState = 'game over'\n",
    "        self.gamma = 0.99\n",
    "\n",
    "        self.transition_probabilities = {\n",
    "                \"start\": {\n",
    "                    \"play\": {\"playing\": 1.0, \"game over\": 0.0},\n",
    "                    \"quit\": {\"playing\": 0.0, \"game over\": 1.0}\n",
    "                },\n",
    "                \"playing\": {\n",
    "                    \"play\": {\"playing\": 4/6, \"game over\": 2/6},\n",
    "                    # Assuming the option to quit is available in 'playing' state:\n",
    "                    \"quit\": {\"playing\": 0.0, \"game over\": 0.0}\n",
    "                },\n",
    "                \"game over\": {\n",
    "                    \"play\": {\"playing\": 0.0, \"game over\": 1.0},\n",
    "                    \"quit\": {\"playing\": 0.0, \"game over\": 1.0}\n",
    "                }\n",
    "            }\n",
    "        \n",
    "        self.reward_function = {\n",
    "                (\"start\", \"play\", \"playing\"): 4,  # No reward for starting to play\n",
    "                (\"start\", \"quit\", \"game over\"): 10,  # Reward for quitting at the start\n",
    "                (\"playing\", \"play\", \"playing\"): 4,  # Expected reward for continuing to play and not ending the game\n",
    "                (\"playing\", \"play\", \"game over\"): 0,  # No reward for playing and then the game ending\n",
    "                (\"playing\", \"quit\", \"game over\"): 0,  # No reward for quitting in the middle of playing\n",
    "                (\"game over\", \"play\", \"game over\"): 0,  # No further play possible from \"game over\"\n",
    "                (\"game over\", \"quit\", \"game over\"): 0,  # No action possible from \"game over\"\n",
    "                }\n",
    "\n",
    "\n",
    "    def roll_dice(self):\n",
    "        return random.randint(1, 6)\n",
    "\n",
    "    def take_action(self,action):\n",
    "        if self.current_state == 'start':\n",
    "            if action == 'quit':\n",
    "                self.total_reward += 10\n",
    "                self.current_state = 'game over'\n",
    "            elif action == 'play':\n",
    "                self.total_reward += 4\n",
    "                self.handle_roll()\n",
    "        elif self.current_state == 'playing':\n",
    "            if action == 'play':\n",
    "                self.handle_roll()\n",
    "        elif self.current_state == 'game over':\n",
    "            print('Game is over. Please reset the game to play again.')\n",
    "        return self.current_state\n",
    "\n",
    "    def handle_roll(self):\n",
    "        dice_value = self.roll_dice()\n",
    "        if dice_value not in [1, 2]:\n",
    "            self.total_reward += self.gamma*4\n",
    "            self.current_state = 'playing'\n",
    "        else:\n",
    "            self.current_state = 'game over' \n",
    "\n",
    "\n",
    "    def playGame(self, action):\n",
    "        self.current_state = 'start'\n",
    "        self.total_reward = 0\n",
    "        while self.current_state != 'game over':\n",
    "            self.take_action(action)\n",
    "        return self.total_reward\n",
    "\n",
    "\n",
    "\n"
   ]
  },
  {
   "cell_type": "code",
   "execution_count": 5,
   "id": "ffce1f9e",
   "metadata": {},
   "outputs": [
    {
     "name": "stdout",
     "output_type": "stream",
     "text": [
      "Reward 47.56\n",
      "Reward 10\n"
     ]
    }
   ],
   "source": [
    "dice_game_mdp = DiceGameMDP()\n",
    "# Player decides to play\n",
    "dice_game_mdp.playGame('play')\n",
    "print('Reward', dice_game_mdp.total_reward)\n",
    "\n",
    "# player decides to quit\n",
    "dice_game_mdp.playGame('quit')\n",
    "print('Reward', dice_game_mdp.total_reward)"
   ]
  },
  {
   "cell_type": "code",
   "execution_count": 6,
   "id": "8edbed11",
   "metadata": {},
   "outputs": [],
   "source": [
    "def policy_evaluation(policy, mdp,theta=0.01 ):\n",
    "    # Initialize value function for each state\n",
    "    V_pi = {s: 0 for s in mdp.states}\n",
    "    \n",
    "    def is_end(s):\n",
    "        return s == mdp.endState\n",
    "\n",
    "    # Perform policy evaluation\n",
    "    while True:\n",
    "        delta = 0  # This will track the maximum change in the value function\n",
    "\n",
    "        for s in mdp.states:\n",
    "            if is_end(s):\n",
    "                V_pi[s] = 0\n",
    "            else:\n",
    "                # Calculate the action-value function Q for the current state and action according to policy\n",
    "                a = policy[s]\n",
    "                Q_pi = 0  # Reset the action-value function for this state-action pair\n",
    "                for s_prime in mdp.states:\n",
    "                    # Update Q_pi with the sum of probabilities * (specific reward + discounted value of next state)\n",
    "                    Q_pi += mdp.transition_probabilities[s][a].get(s_prime, 0) * \\\n",
    "                            (mdp.reward_function.get((s, a, s_prime), 0) + mdp.gamma * V_pi.get(s_prime, 0))\n",
    "                \n",
    "                # Calculate the maximum change in the value function\n",
    "                delta = max(delta, abs(Q_pi - V_pi[s]))\n",
    "                \n",
    "                # Update the state-value function V\n",
    "                V_pi[s] = Q_pi\n",
    "\n",
    "        # Check for convergence\n",
    "        if delta < theta:\n",
    "            break\n",
    "\n",
    "    # Output the final state-value function\n",
    "    for s in mdp.states:\n",
    "        print(f\"Value of state {s}: {V_pi[s]}\")\n",
    "\n",
    "    return V_pi\n",
    "\n"
   ]
  },
  {
   "cell_type": "code",
   "execution_count": 7,
   "id": "a7317b93",
   "metadata": {},
   "outputs": [
    {
     "name": "stdout",
     "output_type": "stream",
     "text": [
      "Value of state start: 11.749455383745524\n",
      "Value of state playing: 7.8329702558303484\n",
      "Value of state game over: 0\n",
      "{'start': 11.749455383745524, 'playing': 7.8329702558303484, 'game over': 0}\n",
      "Value of state start: 10.0\n",
      "Value of state playing: 0.0\n",
      "Value of state game over: 0\n",
      "{'start': 10.0, 'playing': 0.0, 'game over': 0}\n"
     ]
    }
   ],
   "source": [
    "# Discount factor gamma\n",
    "# Threshold for convergence\n",
    "\n",
    "policy = {\"start\": \"play\", \"playing\": \"play\", \"game over\": \"quit\"}\n",
    "V_pi = policy_evaluation(policy, DiceGameMDP(), theta=0.01 )\n",
    "print(V_pi)\n",
    "\n",
    "\n",
    "policy = {\"start\": \"quit\", \"playing\": \"quit\", \"game over\": \"quit\"}\n",
    "V_pi = policy_evaluation(policy, DiceGameMDP(), theta=0.01 )\n",
    "print(V_pi)\n",
    "\n"
   ]
  },
  {
   "cell_type": "code",
   "execution_count": 8,
   "id": "7947a2c8",
   "metadata": {},
   "outputs": [
    {
     "name": "stdout",
     "output_type": "stream",
     "text": [
      "Expected reward for 'Always Play' policy: 11.999999999999998\n",
      "Expected reward for 'Never Play' policy: 10\n"
     ]
    }
   ],
   "source": [
    "## Straight apporach\n",
    "\n",
    "def expected_reward_of_playing():\n",
    "    \"\"\"\n",
    "    Calculate the expected reward for the 'Always Play' policy.\n",
    "    \"\"\"\n",
    "    probability_of_continuing = 4/6  # Probability of rolling 3, 4, 5, or 6\n",
    "    probability_of_ending = 1 - probability_of_continuing  # Probability of rolling 1 or 2\n",
    "    reward_per_roll = 4\n",
    "\n",
    "    # Expected reward is a sum of an infinite series: 4 + 4*(4/6) + 4*(4/6)^2 + 4*(4/6)^3 + ...\n",
    "    expected_reward = reward_per_roll / probability_of_ending\n",
    "    return expected_reward\n",
    "\n",
    "def evaluate_policy(policy):\n",
    "    \"\"\"\n",
    "    Evaluate the given policy.\n",
    "    \"\"\"\n",
    "    if policy == \"Always Play\":\n",
    "        return expected_reward_of_playing()\n",
    "    elif policy == \"Never Play\":\n",
    "        return 10  # Guaranteed reward for not playing\n",
    "    else:\n",
    "        raise ValueError(\"Unknown policy\")\n",
    "\n",
    "# Evaluate policies\n",
    "reward_always_play = evaluate_policy(\"Always Play\")\n",
    "reward_never_play = evaluate_policy(\"Never Play\")\n",
    "\n",
    "print(f\"Expected reward for 'Always Play' policy: {reward_always_play}\")\n",
    "print(f\"Expected reward for 'Never Play' policy: {reward_never_play}\")\n"
   ]
  },
  {
   "cell_type": "code",
   "execution_count": 9,
   "id": "756f4b18",
   "metadata": {},
   "outputs": [
    {
     "name": "stdout",
     "output_type": "stream",
     "text": [
      "Total reward 1194764.079999741\n",
      "Expected reward 11.947640799997409\n",
      "(100000,)\n"
     ]
    }
   ],
   "source": [
    "## taking expectation\n",
    "playgamecount = 100000\n",
    "calculateexpectedreward = 0\n",
    "rewards = np.array([])\n",
    "for i in range(playgamecount):\n",
    "    dice_game_mdp = DiceGameMDP()\n",
    "    dice_game_mdp.playGame('play')\n",
    "    result = dice_game_mdp.total_reward\n",
    "    rewards = np.append(rewards,result)\n",
    "    calculateexpectedreward += result\n",
    "print('Total reward',calculateexpectedreward)\n",
    "print('Expected reward',calculateexpectedreward/playgamecount)\n",
    "print(rewards.shape)\n"
   ]
  },
  {
   "cell_type": "code",
   "execution_count": 10,
   "id": "9b0bd4d7",
   "metadata": {},
   "outputs": [
    {
     "data": {
      "image/png": "[encoded data removed]",
      "text/plain": [
       "<Figure size 640x480 with 1 Axes>"
      ]
     },
     "metadata": {},
     "output_type": "display_data"
    }
   ],
   "source": [
    "### Plot distirbution chart\n",
    "rewards = pd.Series(rewards)\n",
    "value_counts = rewards.value_counts()\n",
    "plt.bar(value_counts.index, value_counts.values/rewards.shape[0], color='blue')\n",
    "\n",
    "# Customize the plot (optional)\n",
    "plt.title('Value Counts Bar Chart')\n",
    "plt.xlabel('Values')\n",
    "plt.ylabel('Counts')\n",
    "\n",
    "# tenatsmoreinfo.hist(color='#D6D1C4', edgecolor='black', bins=20)\n",
    "ax = plt.gca()\n",
    "ax.set_facecolor('white')  # Set the background color of the plot area\n",
    "plt.title('', fontsize=16)\n",
    "plt.grid(True)\n",
    "plt.tight_layout()\n",
    "plt.xlabel('Game Result', fontsize=14)\n",
    "plt.ylabel('Occurance', fontsize=14)\n",
    "plt.xticks(rotation=45, ha='right') \n",
    "plt.xticks(value_counts.index)\n",
    "\n",
    "\n",
    "# Show the plot\n",
    "plt.show()"
   ]
  },
  {
   "cell_type": "code",
   "execution_count": 9,
   "id": "eb0d7cdf",
   "metadata": {},
   "outputs": [
    {
     "data": {
      "image/png": "[encoded data removed]",
      "text/plain": [
       "<Figure size 640x480 with 1 Axes>"
      ]
     },
     "metadata": {},
     "output_type": "display_data"
    }
   ],
   "source": [
    "### Priobability distribution for top 10 values only\n",
    "top_20_value_counts = value_counts.head(10)\n",
    "\n",
    "# Create a bar chart\n",
    "plt.bar(top_20_value_counts.index, top_20_value_counts.values/rewards.shape[0], color='blue')\n",
    "\n",
    "# Customize the plot (optional)\n",
    "plt.title('Top 20 Value Counts Bar Chart')\n",
    "plt.xlabel('Values')\n",
    "plt.ylabel('Counts')\n",
    "plt.xticks(top_20_value_counts.index)\n",
    "\n",
    "# Show the plot\n",
    "plt.show()"
   ]
  },
  {
   "cell_type": "code",
   "execution_count": 10,
   "id": "705f3226",
   "metadata": {},
   "outputs": [],
   "source": [
    "def value_iteration(mdp, theta=0.01):\n",
    "    # Initialize value function for each state\n",
    "    V = {s: 0 for s in mdp.states}\n",
    "    \n",
    "    def is_end(s):\n",
    "        return s == mdp.endState\n",
    "\n",
    "    # Perform value iteration\n",
    "    while True:\n",
    "        delta = 0  # This will track the maximum change in the value function\n",
    "\n",
    "        for s in mdp.states:\n",
    "            if is_end(s):\n",
    "                V[s] = 0\n",
    "            else:\n",
    "                # Initialize the value as negative infinity to ensure it gets updated\n",
    "                max_value = float('-inf')\n",
    "                # Loop through all possible actions to find the best one\n",
    "                for a in mdp.actions:\n",
    "                    Q_sa = 0  # Reset the action-value function for this state-action pair\n",
    "                    for s_prime in mdp.states:\n",
    "                        # Update Q_sa with the sum of probabilities * (specific reward + discounted value of next state)\n",
    "                        Q_sa += mdp.transition_probabilities[s][a].get(s_prime, 0) * \\\n",
    "                                (mdp.reward_function.get((s, a, s_prime), 0) + mdp.gamma * V.get(s_prime, 0))\n",
    "                    # Update max_value if this action is the best so far\n",
    "                    max_value = max(max_value, Q_sa)\n",
    "                \n",
    "                # Calculate the maximum change in the value function\n",
    "                delta = max(delta, abs(max_value - V[s]))\n",
    "                \n",
    "                # Update the state-value function V\n",
    "                V[s] = max_value\n",
    "\n",
    "        # Check for convergence\n",
    "        if delta < theta:\n",
    "            break\n",
    "\n",
    "    # Output the final state-value function\n",
    "    for s in mdp.states:\n",
    "        print(f\"Value of state {s}: {V[s]}\")\n",
    "\n",
    "    return V\n"
   ]
  },
  {
   "cell_type": "code",
   "execution_count": 11,
   "id": "97290b2d",
   "metadata": {},
   "outputs": [
    {
     "name": "stdout",
     "output_type": "stream",
     "text": [
      "Value of state start: 11.749455383745524\n",
      "Value of state playing: 7.8329702558303484\n",
      "Value of state game over: 0\n"
     ]
    },
    {
     "data": {
      "text/plain": [
       "{'start': 11.749455383745524, 'playing': 7.8329702558303484, 'game over': 0}"
      ]
     },
     "execution_count": 11,
     "metadata": {},
     "output_type": "execute_result"
    }
   ],
   "source": [
    "value_iteration(DiceGameMDP(), theta=0.01)"
   ]
  },
  {
   "cell_type": "code",
   "execution_count": 11,
   "id": "4a4098b8",
   "metadata": {},
   "outputs": [
    {
     "name": "stdout",
     "output_type": "stream",
     "text": [
      "Optimal value for state start: 11.749455383745524\n",
      "Optimal policy for state start: play\n",
      "Optimal value for state playing: 7.8329702558303484\n",
      "Optimal policy for state playing: play\n",
      "Optimal value for state game over: 0\n"
     ]
    }
   ],
   "source": [
    "def value_iteration_with_policy(mdp, theta=0.01):\n",
    "    # Initialize value function for each state\n",
    "    V = {s: 0 for s in mdp.states}\n",
    "\n",
    "    def is_end(s):\n",
    "        \"\"\"Check if the current state is the end of the game.\"\"\"\n",
    "        return s == mdp.endState\n",
    "\n",
    "    def compute_Q(s, a, V):\n",
    "        \"\"\"Compute the action-value function Q for a given state and action.\"\"\"\n",
    "        return sum(\n",
    "            mdp.transition_probabilities[s][a].get(s_prime, 0) * \n",
    "            (mdp.reward_function.get((s, a, s_prime), 0) + mdp.gamma * V.get(s_prime, 0))\n",
    "            for s_prime in mdp.states\n",
    "        )\n",
    "\n",
    "    # Perform value iteration\n",
    "    while True:\n",
    "        delta = 0  # This will track the maximum change in the value function\n",
    "        for s in mdp.states:\n",
    "            if is_end(s):\n",
    "                V[s] = 0\n",
    "            else:\n",
    "                # Find the best action by comparing the Q value for each action\n",
    "                max_value = max(compute_Q(s, a, V) for a in mdp.actions)\n",
    "                delta = max(delta, abs(max_value - V[s]))\n",
    "                V[s] = max_value\n",
    "\n",
    "        # Check for convergence\n",
    "        if delta < theta:\n",
    "            break\n",
    "\n",
    "    # After finding optimal values, determine the optimal policy\n",
    "    def compute_optimal_policy(V):\n",
    "        \"\"\"Compute the optimal policy using the optimal value function.\"\"\"\n",
    "        pi_opt = {}\n",
    "        for s in mdp.states:\n",
    "            if is_end(s):\n",
    "                continue\n",
    "            # Find the action that gives the highest value for the action-value function Q\n",
    "            best_action = max(mdp.actions, key=lambda a: compute_Q(s, a, V))\n",
    "            pi_opt[s] = best_action\n",
    "        return pi_opt\n",
    "\n",
    "    # Compute the optimal policy\n",
    "    optimal_policy = compute_optimal_policy(V)\n",
    "\n",
    "    # Return the optimal value function and policy\n",
    "    return V, optimal_policy\n",
    "\n",
    "# Example usage:\n",
    "# Assume we have a defined mdp object with states, actions, transition probabilities, reward function, and gamma\n",
    "dicegame = DiceGameMDP()\n",
    "V_opt, optimal_policy = value_iteration_with_policy(dicegame)\n",
    "\n",
    "# Print the optimal values and policy for each state\n",
    "for s in dicegame.states:\n",
    "    print(f\"Optimal value for state {s}: {V_opt[s]}\")\n",
    "    if s in optimal_policy:\n",
    "        print(f\"Optimal policy for state {s}: {optimal_policy[s]}\")\n"
   ]
  },
  {
   "cell_type": "code",
   "execution_count": 55,
   "id": "b2cb2be5",
   "metadata": {},
   "outputs": [
    {
     "name": "stdout",
     "output_type": "stream",
     "text": [
      "New state: Tile 2, Reward: -1\n"
     ]
    }
   ],
   "source": [
    "class VolcanoCrossingMDP:\n",
    "    def __init__(self):\n",
    "        self.states = ['Tile 1', 'Tile 2', 'Tile 3', 'Tile 4', 'Tile 5', 'Game Over']\n",
    "        self.volcanic_tiles = ['Tile 3']  # Example: Tile 3 is volcanic\n",
    "        self.goal_tile = 'Tile 5'\n",
    "        self.actions = ['Move Forward', 'Stay']\n",
    "\n",
    "    def take_action(self, state, action):\n",
    "        if state in self.volcanic_tiles or state == self.goal_tile or state == 'Game Over':\n",
    "            return 'Game Over', -10  # Large penalty for volcanic tile or game over state\n",
    "\n",
    "        if action == 'Move Forward':\n",
    "            next_state = f'Tile {int(state.split()[1]) + 1}'\n",
    "            if next_state == self.goal_tile:\n",
    "                return next_state, 10  # Reward for reaching the goal\n",
    "            else:\n",
    "                return next_state, -1  # Small penalty to encourage moving forward\n",
    "\n",
    "        elif action == 'Stay':\n",
    "            return state, -1  # Small penalty for staying\n",
    "\n",
    "# Example usage\n",
    "mdp = VolcanoCrossingMDP()\n",
    "current_state = 'Tile 1'\n",
    "action_taken = 'Move Forward'\n",
    "new_state, reward = mdp.take_action(current_state, action_taken)\n",
    "print(f\"New state: {new_state}, Reward: {reward}\")\n"
   ]
  },
  {
   "cell_type": "code",
   "execution_count": 61,
   "id": "609575af",
   "metadata": {},
   "outputs": [
    {
     "name": "stdout",
     "output_type": "stream",
     "text": [
      "New state: (0, 1), Reward: -1\n"
     ]
    }
   ],
   "source": [
    "class VolcanoCrossing2DMDP:\n",
    "    def __init__(self, grid):\n",
    "        self.grid = grid\n",
    "        self.rows = len(grid)\n",
    "        self.cols = len(grid[0])\n",
    "        self.actions = ['Up', 'Down', 'Left', 'Right']\n",
    "        self.goal = (2, 2)  # Assuming the goal is at (2, 2)\n",
    "        self.game_over = False\n",
    "\n",
    "    def is_valid(self, position):\n",
    "        r, c = position\n",
    "        return 0 <= r < self.rows and 0 <= c < self.cols\n",
    "\n",
    "    def take_action(self, state, action):\n",
    "        if self.game_over:\n",
    "            return state, 0  # No reward if the game is over\n",
    "\n",
    "        r, c = state\n",
    "        new_state = (r, c)\n",
    "        if action == 'Up' and self.is_valid((r - 1, c)):\n",
    "            new_state = (r - 1, c)\n",
    "        elif action == 'Down' and self.is_valid((r + 1, c)):\n",
    "            new_state = (r + 1, c)\n",
    "        elif action == 'Left' and self.is_valid((r, c - 1)):\n",
    "            new_state = (r, c - 1)\n",
    "        elif action == 'Right' and self.is_valid((r, c + 1)):\n",
    "            new_state = (r, c + 1)\n",
    "\n",
    "        # Check for volcanic or goal cell\n",
    "        if self.grid[new_state[0]][new_state[1]] == 'V':\n",
    "            self.game_over = True\n",
    "            return new_state, -100  # Penalty for volcanic cell\n",
    "        elif new_state == self.goal:\n",
    "            return new_state, 100  # Reward for reaching the goal\n",
    "\n",
    "        return new_state, -1  # Small penalty for each move\n",
    "\n",
    "# Example usage\n",
    "grid = [['S', '-', '-'], ['-', 'V', '-'], ['-', '-', 'G']]\n",
    "mdp = VolcanoCrossing2DMDP(grid)\n",
    "current_state = (0, 0)  # Starting position\n",
    "action_taken = 'Right'  # Example action\n",
    "new_state, reward = mdp.take_action(current_state, action_taken)\n",
    "print(f\"New state: {new_state}, Reward: {reward}\")\n"
   ]
  },
  {
   "cell_type": "code",
   "execution_count": 62,
   "id": "24b7b86e",
   "metadata": {},
   "outputs": [
    {
     "name": "stdout",
     "output_type": "stream",
     "text": [
      "Action: Right, New State: (0, 1), Reward: -1\n",
      "Action: Right, New State: (0, 2), Reward: -1\n",
      "Action: Down, New State: (1, 2), Reward: -1\n",
      "Action: Down, New State: (2, 2), Reward: 100\n",
      "Final State: (2, 2)\n"
     ]
    }
   ],
   "source": [
    "class VolcanoCrossing2DMDP:\n",
    "    def __init__(self, grid):\n",
    "        self.grid = grid\n",
    "        self.rows = len(grid)\n",
    "        self.cols = len(grid[0])\n",
    "        self.actions = ['Up', 'Down', 'Left', 'Right']\n",
    "        self.goal = (2, 2)  # Goal is at (2, 2)\n",
    "        self.game_over = False\n",
    "\n",
    "    def is_valid(self, position):\n",
    "        r, c = position\n",
    "        return 0 <= r < self.rows and 0 <= c < self.cols\n",
    "\n",
    "    def take_action(self, state, action):\n",
    "        if self.game_over:\n",
    "            return state, 0  # No reward if the game is over\n",
    "\n",
    "        r, c = state\n",
    "        new_state = (r, c)\n",
    "        if action == 'Up' and self.is_valid((r - 1, c)):\n",
    "            new_state = (r - 1, c)\n",
    "        elif action == 'Down' and self.is_valid((r + 1, c)):\n",
    "            new_state = (r + 1, c)\n",
    "        elif action == 'Left' and self.is_valid((r, c - 1)):\n",
    "            new_state = (r, c - 1)\n",
    "        elif action == 'Right' and self.is_valid((r, c + 1)):\n",
    "            new_state = (r, c + 1)\n",
    "\n",
    "        # Check for volcanic or goal cell\n",
    "        if self.grid[new_state[0]][new_state[1]] == 'V':\n",
    "            self.game_over = True\n",
    "            return new_state, -100  # Penalty for volcanic cell\n",
    "        elif new_state == self.goal:\n",
    "            return new_state, 100  # Reward for reaching the goal\n",
    "\n",
    "        return new_state, -1  # Small penalty for each move\n",
    "\n",
    "# Example usage\n",
    "grid = [['S', '-', '-'], ['-', 'V', '-'], ['-', '-', 'G']]\n",
    "mdp = VolcanoCrossing2DMDP(grid)\n",
    "current_state = (0, 0)  # Starting position\n",
    "\n",
    "# Play the game with the given action sequence\n",
    "sequence_of_actions = ['Right', 'Right', 'Down', 'Down']  # A sequence of actions\n",
    "\n",
    "for action in sequence_of_actions:\n",
    "    new_state, reward = mdp.take_action(current_state, action)\n",
    "    print(f\"Action: {action}, New State: {new_state}, Reward: {reward}\")\n",
    "    current_state = new_state\n",
    "\n",
    "    if mdp.game_over:\n",
    "        print(\"Game Over!\")\n",
    "        break\n",
    "\n",
    "print(f\"Final State: {current_state}\")\n"
   ]
  },
  {
   "cell_type": "markdown",
   "id": "d56e85c6",
   "metadata": {},
   "source": []
  },
  {
   "cell_type": "code",
   "execution_count": 65,
   "id": "2255663a",
   "metadata": {},
   "outputs": [],
   "source": [
    "# <!-- S - - \n",
    "# - V - \n",
    "# - - G  -->\n"
   ]
  },
  {
   "cell_type": "code",
   "execution_count": null,
   "id": "b2e5caaf",
   "metadata": {},
   "outputs": [],
   "source": []
  }
 ],
 "metadata": {
  "kernelspec": {
   "display_name": "Python 3 (ipykernel)",
   "language": "python",
   "name": "python3"
  },
  "language_info": {
   "codemirror_mode": {
    "name": "ipython",
    "version": 3
   },
   "file_extension": ".py",
   "mimetype": "text/x-python",
   "name": "python",
   "nbconvert_exporter": "python",
   "pygments_lexer": "ipython3",
   "version": "3.10.11"
  }
 },
 "nbformat": 4,
 "nbformat_minor": 5
}
